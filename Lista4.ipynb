{
 "cells": [
  {
   "cell_type": "markdown",
   "id": "73d93d18",
   "metadata": {},
   "source": [
    "# Lista 4, Métodos Numéricos 2 \n",
    "Javier Alejandro Ovalle Chiquín, 22103  \n",
    "Ricardo Josué Morales Contreras, 22289"
   ]
  },
  {
   "cell_type": "markdown",
   "id": "b449dac1",
   "metadata": {},
   "source": [
    "#### Problema 1. Modelo de Prooducción, Periodo único"
   ]
  },
  {
   "cell_type": "markdown",
   "id": "6a233d7f",
   "metadata": {},
   "source": [
    "Definimos las variables de decisión:\n",
    "\n",
    "- $x_1$: Número de abrigos de piel con capucha producidos.\n",
    "- $x_2$: Número de chamarras con relleno de plumas de ganso producidas.\n",
    "- $x_3$: Número de pantalones con aislamiento producidos.\n",
    "- $x_4$: Número de guantes producidos.\n",
    "- $s_1, s_2, s_3, s_4 \\geq 0$: Variables de faltante (shortage) para cada producto, respectivamente.\n",
    "\n",
    "Las demandas firmes son: $d_1 = 800$, $d_2 = 750$, $d_3 = 600$, $d_4 = 500$.\n",
    "\n",
    "Las utilidades por unidad son: 30 para abrigos, 40 para chamarras, 20 para pantalones, 10 para guantes.\n",
    "\n",
    "Las penalizaciones por unidad no surtida son: 15 para abrigos, 20 para chamarras, 10 para pantalones, 8 para guantes.\n",
    "\n",
    "**Función objetivo** (maximizar utilidad neta):  \n",
    "$$\n",
    "\\max z = 30x_1 + 40x_2 + 20x_3 + 10x_4 - 15s_1 - 20s_2 - 10s_3 - 8s_4\n",
    "$$\n",
    "\n",
    "**Restricciones de demanda** (se debe cubrir la demanda o incurrir en faltante):  \n",
    "$$\n",
    "x_1 + s_1 = 800\n",
    "$$  \n",
    "$$\n",
    "x_2 + s_2 = 750\n",
    "$$  \n",
    "$$\n",
    "x_3 + s_3 = 600\n",
    "$$  \n",
    "$$\n",
    "x_4 + s_4 = 500\n",
    "$$\n",
    "\n",
    "**Restricciones de capacidad por departamento** (en horas):  \n",
    "- Corte: $0.30x_1 + 0.30x_2 + 0.25x_3 + 0.15x_4 \\leq 1000$  \n",
    "- Aislamiento: $0.25x_1 + 0.35x_2 + 0.30x_3 + 0.10x_4 \\leq 1000$  \n",
    "- Costura: $0.45x_1 + 0.50x_2 + 0.40x_3 + 0.22x_4 \\leq 1000$  \n",
    "- Empaque: $0.15x_1 + 0.15x_2 + 0.10x_3 + 0.05x_4 \\leq 1000$\n",
    "\n",
    "**Restricciones de no negatividad**:  \n",
    "$$\n",
    "x_1, x_2, x_3, x_4, s_1, s_2, s_3, s_4 \\geq 0\n",
    "$$\n"
   ]
  },
  {
   "cell_type": "markdown",
   "id": "4fd52709",
   "metadata": {},
   "source": [
    "Solución del modelo con la librería pulp sin restricción de enteros."
   ]
  },
  {
   "cell_type": "code",
   "execution_count": 2,
   "id": "dbc8c625",
   "metadata": {},
   "outputs": [
    {
     "name": "stdout",
     "output_type": "stream",
     "text": [
      "Valor objetivo: 64625.0\n",
      "x1: 800.0\n",
      "x2: 750.0\n",
      "x3: 387.5\n",
      "x4: 500.0\n",
      "s1: 0.0\n",
      "s2: 0.0\n",
      "s3: 212.5\n",
      "s4: 0.0\n"
     ]
    }
   ],
   "source": [
    "import pulp\n",
    "\n",
    "# Crear el problema\n",
    "prob = pulp.LpProblem(\"Produccion_Optima\", pulp.LpMaximize)\n",
    "\n",
    "# Variables continuas\n",
    "x1 = pulp.LpVariable(\"Abrigos\", lowBound=0)\n",
    "x2 = pulp.LpVariable(\"Chamarras\", lowBound=0)\n",
    "x3 = pulp.LpVariable(\"Pantalones\", lowBound=0)\n",
    "x4 = pulp.LpVariable(\"Guantes\", lowBound=0)\n",
    "s1 = pulp.LpVariable(\"Faltante_Abrigos\", lowBound=0)\n",
    "s2 = pulp.LpVariable(\"Faltante_Chamarras\", lowBound=0)\n",
    "s3 = pulp.LpVariable(\"Faltante_Pantalones\", lowBound=0)\n",
    "s4 = pulp.LpVariable(\"Faltante_Guantes\", lowBound=0)\n",
    "\n",
    "# Objetivo\n",
    "prob += 30*x1 + 40*x2 + 20*x3 + 10*x4 - 15*s1 - 20*s2 - 10*s3 - 8*s4\n",
    "\n",
    "# Restricciones de demanda\n",
    "prob += x1 + s1 == 800\n",
    "prob += x2 + s2 == 750\n",
    "prob += x3 + s3 == 600\n",
    "prob += x4 + s4 == 500\n",
    "\n",
    "# Restricciones de departamentos\n",
    "prob += 0.30*x1 + 0.30*x2 + 0.25*x3 + 0.15*x4 <= 1000, \"Corte\"\n",
    "prob += 0.25*x1 + 0.35*x2 + 0.30*x3 + 0.10*x4 <= 1000, \"Aislamiento\"\n",
    "prob += 0.45*x1 + 0.50*x2 + 0.40*x3 + 0.22*x4 <= 1000, \"Costura\"\n",
    "prob += 0.15*x1 + 0.15*x2 + 0.10*x3 + 0.05*x4 <= 1000, \"Empaque\"\n",
    "\n",
    "# Resolver\n",
    "prob.solve(pulp.PULP_CBC_CMD(msg=0))\n",
    "\n",
    "# Resultados\n",
    "print(\"Valor objetivo:\", pulp.value(prob.objective))\n",
    "print(\"x1:\", x1.varValue)\n",
    "print(\"x2:\", x2.varValue)\n",
    "print(\"x3:\", x3.varValue)\n",
    "print(\"x4:\", x4.varValue)\n",
    "print(\"s1:\", s1.varValue)\n",
    "print(\"s2:\", s2.varValue)\n",
    "print(\"s3:\", s3.varValue)\n",
    "print(\"s4:\", s4.varValue)"
   ]
  },
  {
   "cell_type": "markdown",
   "id": "07741ac0",
   "metadata": {},
   "source": [
    "Estos resultados coinciden exáctamente con los mostrados por simplex de excel"
   ]
  },
  {
   "cell_type": "markdown",
   "id": "6a2249aa",
   "metadata": {},
   "source": [
    "Solución del problema, añadiendo la restricción de que las variables sean enteras:"
   ]
  },
  {
   "cell_type": "code",
   "execution_count": 3,
   "id": "df3cf20e",
   "metadata": {},
   "outputs": [
    {
     "name": "stdout",
     "output_type": "stream",
     "text": [
      "Valor objetivo: 64622.0\n",
      "x1: 800.0\n",
      "x2: 750.0\n",
      "x3: 388.0\n",
      "x4: 499.0\n",
      "s1: 0.0\n",
      "s2: 0.0\n",
      "s3: 212.0\n",
      "s4: 1.0\n"
     ]
    }
   ],
   "source": [
    "import pulp\n",
    "\n",
    "# Crear el problema\n",
    "prob = pulp.LpProblem(\"Produccion_Entera\", pulp.LpMaximize)\n",
    "\n",
    "# Variables enteras\n",
    "x1 = pulp.LpVariable(\"Abrigos\", lowBound=0, cat='Integer')\n",
    "x2 = pulp.LpVariable(\"Chamarras\", lowBound=0, cat='Integer')\n",
    "x3 = pulp.LpVariable(\"Pantalones\", lowBound=0, cat='Integer')\n",
    "x4 = pulp.LpVariable(\"Guantes\", lowBound=0, cat='Integer')\n",
    "s1 = pulp.LpVariable(\"Faltante_Abrigos\", lowBound=0, cat='Integer')\n",
    "s2 = pulp.LpVariable(\"Faltante_Chamarras\", lowBound=0, cat='Integer')\n",
    "s3 = pulp.LpVariable(\"Faltante_Pantalones\", lowBound=0, cat='Integer')\n",
    "s4 = pulp.LpVariable(\"Faltante_Guantes\", lowBound=0, cat='Integer')\n",
    "\n",
    "# Objetivo \n",
    "prob += 30*x1 + 40*x2 + 20*x3 + 10*x4 - 15*s1 - 20*s2 - 10*s3 - 8*s4\n",
    "\n",
    "# Restricciones \n",
    "prob += x1 + s1 == 800\n",
    "prob += x2 + s2 == 750\n",
    "prob += x3 + s3 == 600\n",
    "prob += x4 + s4 == 500\n",
    "prob += 0.30*x1 + 0.30*x2 + 0.25*x3 + 0.15*x4 <= 1000, \"Corte\"\n",
    "prob += 0.25*x1 + 0.35*x2 + 0.30*x3 + 0.10*x4 <= 1000, \"Aislamiento\"\n",
    "prob += 0.45*x1 + 0.50*x2 + 0.40*x3 + 0.22*x4 <= 1000, \"Costura\"\n",
    "prob += 0.15*x1 + 0.15*x2 + 0.10*x3 + 0.05*x4 <= 1000, \"Empaque\"\n",
    "\n",
    "# Resolver\n",
    "prob.solve(pulp.PULP_CBC_CMD(msg=0))\n",
    "\n",
    "# Resultados\n",
    "print(\"Valor objetivo:\", pulp.value(prob.objective))\n",
    "print(\"x1:\", x1.varValue)\n",
    "print(\"x2:\", x2.varValue)\n",
    "print(\"x3:\", x3.varValue)\n",
    "print(\"x4:\", x4.varValue)\n",
    "print(\"s1:\", s1.varValue)\n",
    "print(\"s2:\", s2.varValue)\n",
    "print(\"s3:\", s3.varValue)\n",
    "print(\"s4:\", s4.varValue)"
   ]
  },
  {
   "cell_type": "markdown",
   "id": "0737a0e4",
   "metadata": {},
   "source": [
    "Como se puede observar varian los resultados en $x_3$ que son el número de pantalones producidos, ya que era la solución que no quedaba entera, modificandolo a que sean 388 pantalones y restanto 1 al número de guantes producidos teniendo $212$ pantalones faltantes y 1 guante faltante llegando a la solución optima de $64622$. \n",
    "\n",
    "Lo interesante viene al compararlo con el método simplex de excel, ya que la solución optima fue dejando $387$ pantalones y $213$ faltantes, llegando a una subsolucion de $64610$, la cual es menos a la solución propuesta por pulp. Esto probablemente se debe a las limitantes de las interaciones con excel."
   ]
  },
  {
   "cell_type": "markdown",
   "id": "df4e1ab3",
   "metadata": {},
   "source": [
    "#### Problema 2. Modelo de Producción, periodos múltiples "
   ]
  },
  {
   "cell_type": "markdown",
   "id": "c9b9d8ce",
   "metadata": {},
   "source": [
    "Definimos los índices: $t = 1, 2, \\dots, 6$ para los meses.\n",
    "\n",
    "**Datos:**  \n",
    "- Demanda $d_t$: 180, 250, 190, 140, 220 y 250 ventanas.  \n",
    "- Costo de producción por ventana $c_t$: \\$50, \\$45, \\$55, \\$52, \\$48 y \\$50 durante los próximos seis meses.  \n",
    "- Costo de almacenamiento por ventana a fin de mes $h_t$: \\$8 por ventana por mes en los meses 1, 5 y 6. En los meses 2, 3 y 4, los costos por almacenaje son de \\$10 por ventana.  \n",
    "- Capacidad máxima de producción: 225 ventanas cada mes.  \n",
    "- Inventario inicial $I_0 = 0$, y asumimos $I_6 = 0$ (sin inventario final para evitar costos innecesarios).\n",
    "\n",
    "**Variables de decisión:**  \n",
    "- $P_t \\geq 0$: Producción en el mes $t$ (ventanas).  \n",
    "- $I_t \\geq 0$: Inventario al final del mes $t$ (ventanas).\n",
    "\n",
    "**Función objetivo** (minimizar costo total: producción + almacenamiento):  \n",
    "$$\n",
    "\\min z = \\sum_{t=1}^6 \\left( c_t P_t + h_t I_t \\right)\n",
    "$$\n",
    "\n",
    "En la sumatoria se estan considerando 4 variables, sin embargo 2 de ellas serán solo valores numéricos por cada mes, siendo estos el costo  de producción por ventana y el costo de almacenaje por mes\n",
    "\n",
    "**Restricciones:**  \n",
    "1. **Balance de inventario** (producción + inventario inicial = demanda + inventario final):  \n",
    "$$\n",
    "I_{t-1} + P_t = d_t + I_t, \\quad \\forall t = 1, \\dots, 6\n",
    "$$  \n",
    "(con $I_0 = 0$).\n",
    "\n",
    "2. **Capacidad de producción**:  \n",
    "$$\n",
    "P_t \\leq 225, \\quad \\forall t = 1, \\dots, 6\n",
    "$$\n",
    "\n",
    "3. **No negatividad**:  \n",
    "$$\n",
    "P_t \\geq 0, \\quad I_t \\geq 0, \\quad \\forall t\n",
    "$$"
   ]
  },
  {
   "cell_type": "code",
   "execution_count": 4,
   "id": "75bba7b7",
   "metadata": {},
   "outputs": [
    {
     "name": "stdout",
     "output_type": "stream",
     "text": [
      "Objetivo: 61795.0\n",
      "Mes 1: P=205.00, I_end=25.00\n",
      "Mes 2: P=225.00, I_end=0.00\n",
      "Mes 3: P=190.00, I_end=0.00\n",
      "Mes 4: P=160.00, I_end=20.00\n",
      "Mes 5: P=225.00, I_end=25.00\n",
      "Mes 6: P=225.00, I_end=0.00\n"
     ]
    }
   ],
   "source": [
    "import pulp\n",
    "\n",
    "# Datos\n",
    "demandas = [180, 250, 190, 140, 220, 250]\n",
    "costos_prod = [50, 45, 55, 52, 48, 50]\n",
    "costos_inv = [8, 10, 10, 10, 8, 8]\n",
    "capacidad = 225\n",
    "meses = range(1,7)\n",
    "\n",
    "# Problema continuo\n",
    "prob_cont = pulp.LpProblem(\"Produccion_Multiperiodo_Cont\", pulp.LpMinimize)\n",
    "\n",
    "P = pulp.LpVariable.dicts(\"Produccion\", meses, lowBound=0, upBound=capacidad)\n",
    "I0 = pulp.LpVariable(\"I0\", lowBound=0, upBound=0)\n",
    "I = pulp.LpVariable.dicts(\"Inventario\", meses, lowBound=0)\n",
    "I6 = pulp.LpVariable(\"I6\", lowBound=0)\n",
    "\n",
    "# Objetivo\n",
    "prob_cont += pulp.lpSum(costos_prod[t-1]*P[t] + costos_inv[t-1]*I[t] for t in meses)\n",
    "\n",
    "# Balance\n",
    "prev_I = I0\n",
    "for t in meses:\n",
    "    if t < 6:\n",
    "        prob_cont += prev_I + P[t] == demandas[t-1] + I[t]\n",
    "        prev_I = I[t]\n",
    "    else:\n",
    "        prob_cont += prev_I + P[t] == demandas[t-1] + I6\n",
    "prob_cont += I6 == 0\n",
    "\n",
    "prob_cont.solve(pulp.PULP_CBC_CMD(msg=0))\n",
    "\n",
    "# Resultados\n",
    "print(\"Objetivo:\", pulp.value(prob_cont.objective))\n",
    "for t in meses:\n",
    "    print(f\"Mes {t}: P={P[t].varValue:.2f}, I_end={I[t].varValue:.2f}\")"
   ]
  },
  {
   "cell_type": "markdown",
   "id": "73d08f68",
   "metadata": {},
   "source": [
    "La estrategia óptima produce al máximo (225) en meses baratos (2 y 5, con $ c_2=45 $, $ c_5=48 $) para cubrir parte de las demandas altas en 2 y 6, almacenando el excedente. En mes 1, produce extra (205 > 180) para ayudar en mes 2. En mes 4, produce 160 > 140 pero almacena para mes 5 y 6. Mes 3 produce exacto ya que $ c_3=55 $ es alto."
   ]
  },
  {
   "cell_type": "markdown",
   "id": "5676acb5",
   "metadata": {},
   "source": [
    "Para la comparativa con la solución no óptima, que es producir exactamente la cantidad de la demanda por cada mes se observa a simple vista que no se llegará a cumplir la demanda de los meses 2 y 6 ya que la capacidad máxima de producir es de 225 mientras que la demanda será de 250 en ambos meses, sin embargo se obtiene una solución la cual sería calculada por $180 \\cdot 50+ 225 \\cdot 45 + 190 \\cdot 55 + 140 \\cdot 52 + 220 \\cdot 48 + 225 \\cdot 50 = 58,665 $ sin llegar a la demanda por la falta de capacidad de producción.\n"
   ]
  },
  {
   "cell_type": "markdown",
   "id": "80d64e2f",
   "metadata": {},
   "source": [
    "#### Problema 3. Modelo de renovaión urbana"
   ]
  },
  {
   "cell_type": "markdown",
   "id": "5cc93e73",
   "metadata": {},
   "source": [
    "Definimos las variables de decisión (número de unidades a construir, $\\geq 0$):\n",
    "\n",
    "- $x_1$: Número de unidades sencillas (unifamiliares).\n",
    "- $x_2$: Número de unidades dobles.\n",
    "- $x_3$: Número de unidades triples.\n",
    "- $x_4$: Número de unidades cuádruples.\n",
    "\n",
    "**Datos clave:**\n",
    "- Terreno disponible de demolición: Máximo 300 casas $\\times$ 0.25 acres/casa = 75 acres.\n",
    "- Área usable para construcción: $75 \\times (1 - 0.15) = 63.75$ acres (15% para calles, espacios y servicios).\n",
    "- Tamaños de lotes (acres/unidad): 0.18, 0.28, 0.40, 0.50.\n",
    "- Ingresos por impuestos/unidad: \\$1000, \\$1900, \\$2700, \\$3400.\n",
    "- Costos de construcción/unidad: \\$50,000, \\$70,000, \\$130,000, \\$160,000.\n",
    "- Presupuesto máximo: \\$15,000,000.\n",
    "- (El costo de demolición de \\$2000/casa es fijo y no afecta el objetivo, ya que se asume demolición según necesidad hasta 300 casas).\n",
    "\n",
    "**Función objetivo** (maximizar recaudación de impuestos):  \n",
    "$$\n",
    "\\max z = 1000 x_1 + 1900 x_2 + 2700 x_3 + 3400 x_4\n",
    "$$\n",
    "\n",
    "**Restricciones:**  \n",
    "1. **Disponibilidad de terreno**:  \n",
    "$$\n",
    "0.18 x_1 + 0.28 x_2 + 0.40 x_3 + 0.50 x_4 \\leq 63.75\n",
    "$$\n",
    "\n",
    "2. **Unidades triples y cuádruples $\\geq$ 25\\% del total** (de $U = x_1 + x_2 + x_3 + x_4$):  \n",
    "$$\n",
    "x_3 + x_4 \\geq 0.25 U \\implies -x_1 - x_2 + 3 x_3 + 3 x_4 \\geq 0\n",
    "$$\n",
    "\n",
    "3. **Unidades sencillas $\\geq$ 20\\% del total**:  \n",
    "$$\n",
    "x_1 \\geq 0.20 U \\implies 0.80 x_1 - 0.20 x_2 - 0.20 x_3 - 0.20 x_4 \\geq 0\n",
    "$$\n",
    "\n",
    "4. **Unidades dobles $\\geq$ 10\\% del total**:  \n",
    "$$\n",
    "x_2 \\geq 0.10 U \\implies -0.10 x_1 + 0.90 x_2 - 0.10 x_3 - 0.10 x_4 \\geq 0\n",
    "$$\n",
    "\n",
    "5. **Presupuesto de construcción**:  \n",
    "$$\n",
    "50{,}000 x_1 + 70{,}000 x_2 + 130{,}000 x_3 + 160{,}000 x_4 \\leq 15{,}000{,}000\n",
    "$$\n",
    "\n",
    "6. **No negatividad**:  \n",
    "$$\n",
    "x_1, x_2, x_3, x_4 \\geq 0\n",
    "$$"
   ]
  },
  {
   "cell_type": "code",
   "execution_count": 6,
   "id": "91582146",
   "metadata": {},
   "outputs": [
    {
     "name": "stdout",
     "output_type": "stream",
     "text": [
      "Objetivo continuo: 355555.5512\n",
      "x1: 37.037037\n",
      "x2: 101.85185\n",
      "x3: 46.296296\n",
      "x4: 0.0\n"
     ]
    }
   ],
   "source": [
    "import pulp\n",
    "\n",
    "# Problema continuo\n",
    "prob_cont = pulp.LpProblem(\"Renovacion_Urbana_Cont\", pulp.LpMaximize)\n",
    "\n",
    "# Variables\n",
    "x1 = pulp.LpVariable(\"Sencillas\", lowBound=0)\n",
    "x2 = pulp.LpVariable(\"Dobles\", lowBound=0)\n",
    "x3 = pulp.LpVariable(\"Triples\", lowBound=0)\n",
    "x4 = pulp.LpVariable(\"Cuadruples\", lowBound=0)\n",
    "\n",
    "# Objetivo: maximizar impuestos\n",
    "prob_cont += 1000*x1 + 1900*x2 + 2700*x3 + 3400*x4\n",
    "\n",
    "# Restriccion tierra usable: 75 acres * 0.85 = 63.75\n",
    "prob_cont += 0.18*x1 + 0.28*x2 + 0.40*x3 + 0.50*x4 <= 63.75, \"Tierra\"\n",
    "\n",
    "# Triples y cuadruples >=25% total\n",
    "prob_cont += 3*x3 + 3*x4 - x1 - x2 >= 0, \"Triples_Cuadruples_25\"\n",
    "\n",
    "# Sencillas >=20%\n",
    "prob_cont += 0.8*x1 - 0.2*x2 - 0.2*x3 - 0.2*x4 >= 0, \"Sencillas_20\"\n",
    "\n",
    "# Dobles >=10%\n",
    "prob_cont += -0.1*x1 + 0.9*x2 - 0.1*x3 - 0.1*x4 >= 0, \"Dobles_10\"\n",
    "\n",
    "# Presupuesto construccion <=15M\n",
    "prob_cont += 50000*x1 + 70000*x2 + 130000*x3 + 160000*x4 <= 15000000, \"Presupuesto\"\n",
    "\n",
    "# Resolver\n",
    "prob_cont.solve(pulp.PULP_CBC_CMD(msg=0))\n",
    "\n",
    "# Resultados\n",
    "print(\"Objetivo continuo:\", pulp.value(prob_cont.objective))\n",
    "print(\"x1:\", x1.varValue)\n",
    "print(\"x2:\", x2.varValue)\n",
    "print(\"x3:\", x3.varValue)\n",
    "print(\"x4:\", x4.varValue)"
   ]
  },
  {
   "cell_type": "code",
   "execution_count": 7,
   "id": "30358202",
   "metadata": {},
   "outputs": [
    {
     "name": "stdout",
     "output_type": "stream",
     "text": [
      "Objetivo entero: 355400.0\n",
      "x1: 36.0\n",
      "x2: 99.0\n",
      "x3: 31.0\n",
      "x4: 14.0\n"
     ]
    }
   ],
   "source": [
    "import pulp\n",
    "\n",
    "# Problema entero\n",
    "prob_ent = pulp.LpProblem(\"Renovacion_Urbana_Ent\", pulp.LpMaximize)\n",
    "\n",
    "# Variables enteras\n",
    "x1 = pulp.LpVariable(\"Sencillas\", lowBound=0, cat='Integer')\n",
    "x2 = pulp.LpVariable(\"Dobles\", lowBound=0, cat='Integer')\n",
    "x3 = pulp.LpVariable(\"Triples\", lowBound=0, cat='Integer')\n",
    "x4 = pulp.LpVariable(\"Cuadruples\", lowBound=0, cat='Integer')\n",
    "\n",
    "# Objetivo: maximizar impuestos\n",
    "prob_ent += 1000*x1 + 1900*x2 + 2700*x3 + 3400*x4\n",
    "\n",
    "# Restriccion tierra usable: 75 acres * 0.85 = 63.75\n",
    "prob_ent += 0.18*x1 + 0.28*x2 + 0.40*x3 + 0.50*x4 <= 63.75, \"Tierra\"\n",
    "\n",
    "# Triples y cuadruples >=25% total\n",
    "prob_ent += 3*x3 + 3*x4 - x1 - x2 >= 0, \"Triples_Cuadruples_25\"\n",
    "\n",
    "# Sencillas >=20%\n",
    "prob_ent += 0.8*x1 - 0.2*x2 - 0.2*x3 - 0.2*x4 >= 0, \"Sencillas_20\"\n",
    "\n",
    "# Dobles >=10%\n",
    "prob_ent += -0.1*x1 + 0.9*x2 - 0.1*x3 - 0.1*x4 >= 0, \"Dobles_10\"\n",
    "\n",
    "# Presupuesto construccion <=15M\n",
    "prob_ent += 50000*x1 + 70000*x2 + 130000*x3 + 160000*x4 <= 15000000, \"Presupuesto\"\n",
    "\n",
    "# Resolver\n",
    "prob_ent.solve(pulp.PULP_CBC_CMD(msg=0))\n",
    "\n",
    "# Resultados\n",
    "print(\"Objetivo entero:\", pulp.value(prob_ent.objective))\n",
    "print(\"x1:\", x1.varValue)\n",
    "print(\"x2:\", x2.varValue)\n",
    "print(\"x3:\", x3.varValue)\n",
    "print(\"x4:\", x4.varValue)"
   ]
  }
 ],
 "metadata": {
  "kernelspec": {
   "display_name": "Python 3",
   "language": "python",
   "name": "python3"
  },
  "language_info": {
   "codemirror_mode": {
    "name": "ipython",
    "version": 3
   },
   "file_extension": ".py",
   "mimetype": "text/x-python",
   "name": "python",
   "nbconvert_exporter": "python",
   "pygments_lexer": "ipython3",
   "version": "3.12.7"
  }
 },
 "nbformat": 4,
 "nbformat_minor": 5
}
