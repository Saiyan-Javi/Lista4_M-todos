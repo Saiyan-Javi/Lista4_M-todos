{
 "cells": [
  {
   "cell_type": "markdown",
   "id": "73d93d18",
   "metadata": {},
   "source": [
    "# Lista 4, Métodos Numéricos 2 \n",
    "Javier Alejandro Ovalle Chiquín, 22103  \n",
    "Ricardo Josué Morales Contreras, 22289"
   ]
  },
  {
   "cell_type": "markdown",
   "id": "b449dac1",
   "metadata": {},
   "source": [
    "#### Problema 1. Modelo de Prooducción, Periodo único"
   ]
  },
  {
   "cell_type": "markdown",
   "id": "4fd52709",
   "metadata": {},
   "source": [
    "Solución del modelo con la librería pulp sin restricción de enteros."
   ]
  },
  {
   "cell_type": "code",
   "execution_count": 2,
   "id": "dbc8c625",
   "metadata": {},
   "outputs": [
    {
     "name": "stdout",
     "output_type": "stream",
     "text": [
      "Valor objetivo: 64625.0\n",
      "x1: 800.0\n",
      "x2: 750.0\n",
      "x3: 387.5\n",
      "x4: 500.0\n",
      "s1: 0.0\n",
      "s2: 0.0\n",
      "s3: 212.5\n",
      "s4: 0.0\n"
     ]
    }
   ],
   "source": [
    "import pulp\n",
    "\n",
    "# Crear el problema\n",
    "prob = pulp.LpProblem(\"Produccion_Optima\", pulp.LpMaximize)\n",
    "\n",
    "# Variables continuas\n",
    "x1 = pulp.LpVariable(\"Abrigos\", lowBound=0)\n",
    "x2 = pulp.LpVariable(\"Chamarras\", lowBound=0)\n",
    "x3 = pulp.LpVariable(\"Pantalones\", lowBound=0)\n",
    "x4 = pulp.LpVariable(\"Guantes\", lowBound=0)\n",
    "s1 = pulp.LpVariable(\"Faltante_Abrigos\", lowBound=0)\n",
    "s2 = pulp.LpVariable(\"Faltante_Chamarras\", lowBound=0)\n",
    "s3 = pulp.LpVariable(\"Faltante_Pantalones\", lowBound=0)\n",
    "s4 = pulp.LpVariable(\"Faltante_Guantes\", lowBound=0)\n",
    "\n",
    "# Objetivo\n",
    "prob += 30*x1 + 40*x2 + 20*x3 + 10*x4 - 15*s1 - 20*s2 - 10*s3 - 8*s4\n",
    "\n",
    "# Restricciones de demanda\n",
    "prob += x1 + s1 == 800\n",
    "prob += x2 + s2 == 750\n",
    "prob += x3 + s3 == 600\n",
    "prob += x4 + s4 == 500\n",
    "\n",
    "# Restricciones de departamentos\n",
    "prob += 0.30*x1 + 0.30*x2 + 0.25*x3 + 0.15*x4 <= 1000, \"Corte\"\n",
    "prob += 0.25*x1 + 0.35*x2 + 0.30*x3 + 0.10*x4 <= 1000, \"Aislamiento\"\n",
    "prob += 0.45*x1 + 0.50*x2 + 0.40*x3 + 0.22*x4 <= 1000, \"Costura\"\n",
    "prob += 0.15*x1 + 0.15*x2 + 0.10*x3 + 0.05*x4 <= 1000, \"Empaque\"\n",
    "\n",
    "# Resolver\n",
    "prob.solve(pulp.PULP_CBC_CMD(msg=0))\n",
    "\n",
    "# Resultados\n",
    "print(\"Valor objetivo:\", pulp.value(prob.objective))\n",
    "print(\"x1:\", x1.varValue)\n",
    "print(\"x2:\", x2.varValue)\n",
    "print(\"x3:\", x3.varValue)\n",
    "print(\"x4:\", x4.varValue)\n",
    "print(\"s1:\", s1.varValue)\n",
    "print(\"s2:\", s2.varValue)\n",
    "print(\"s3:\", s3.varValue)\n",
    "print(\"s4:\", s4.varValue)"
   ]
  },
  {
   "cell_type": "markdown",
   "id": "07741ac0",
   "metadata": {},
   "source": [
    "Estos resultados coinciden exáctamente con los mostrados por simplex de excel"
   ]
  },
  {
   "cell_type": "markdown",
   "id": "6a2249aa",
   "metadata": {},
   "source": [
    "Solución del problema, añadiendo la restricción de que las variables sean enteras:"
   ]
  },
  {
   "cell_type": "code",
   "execution_count": 3,
   "id": "df3cf20e",
   "metadata": {},
   "outputs": [
    {
     "name": "stdout",
     "output_type": "stream",
     "text": [
      "Valor objetivo: 64622.0\n",
      "x1: 800.0\n",
      "x2: 750.0\n",
      "x3: 388.0\n",
      "x4: 499.0\n",
      "s1: 0.0\n",
      "s2: 0.0\n",
      "s3: 212.0\n",
      "s4: 1.0\n"
     ]
    }
   ],
   "source": [
    "import pulp\n",
    "\n",
    "# Crear el problema\n",
    "prob = pulp.LpProblem(\"Produccion_Entera\", pulp.LpMaximize)\n",
    "\n",
    "# Variables enteras\n",
    "x1 = pulp.LpVariable(\"Abrigos\", lowBound=0, cat='Integer')\n",
    "x2 = pulp.LpVariable(\"Chamarras\", lowBound=0, cat='Integer')\n",
    "x3 = pulp.LpVariable(\"Pantalones\", lowBound=0, cat='Integer')\n",
    "x4 = pulp.LpVariable(\"Guantes\", lowBound=0, cat='Integer')\n",
    "s1 = pulp.LpVariable(\"Faltante_Abrigos\", lowBound=0, cat='Integer')\n",
    "s2 = pulp.LpVariable(\"Faltante_Chamarras\", lowBound=0, cat='Integer')\n",
    "s3 = pulp.LpVariable(\"Faltante_Pantalones\", lowBound=0, cat='Integer')\n",
    "s4 = pulp.LpVariable(\"Faltante_Guantes\", lowBound=0, cat='Integer')\n",
    "\n",
    "# Objetivo \n",
    "prob += 30*x1 + 40*x2 + 20*x3 + 10*x4 - 15*s1 - 20*s2 - 10*s3 - 8*s4\n",
    "\n",
    "# Restricciones \n",
    "prob += x1 + s1 == 800\n",
    "prob += x2 + s2 == 750\n",
    "prob += x3 + s3 == 600\n",
    "prob += x4 + s4 == 500\n",
    "prob += 0.30*x1 + 0.30*x2 + 0.25*x3 + 0.15*x4 <= 1000, \"Corte\"\n",
    "prob += 0.25*x1 + 0.35*x2 + 0.30*x3 + 0.10*x4 <= 1000, \"Aislamiento\"\n",
    "prob += 0.45*x1 + 0.50*x2 + 0.40*x3 + 0.22*x4 <= 1000, \"Costura\"\n",
    "prob += 0.15*x1 + 0.15*x2 + 0.10*x3 + 0.05*x4 <= 1000, \"Empaque\"\n",
    "\n",
    "# Resolver\n",
    "prob.solve(pulp.PULP_CBC_CMD(msg=0))\n",
    "\n",
    "# Resultados\n",
    "print(\"Valor objetivo:\", pulp.value(prob.objective))\n",
    "print(\"x1:\", x1.varValue)\n",
    "print(\"x2:\", x2.varValue)\n",
    "print(\"x3:\", x3.varValue)\n",
    "print(\"x4:\", x4.varValue)\n",
    "print(\"s1:\", s1.varValue)\n",
    "print(\"s2:\", s2.varValue)\n",
    "print(\"s3:\", s3.varValue)\n",
    "print(\"s4:\", s4.varValue)"
   ]
  },
  {
   "cell_type": "markdown",
   "id": "0737a0e4",
   "metadata": {},
   "source": [
    "Como se puede observar varian los resultados en $x_3$ que son el número de pantalones producidos, ya que era la solución que no quedaba entera, modificandolo a que sean 388 pantalones y restanto 1 al número de guantes producidos teniendo $212$ pantalones faltantes y 1 guante faltante llegando a la solución optima de $64622$. \n",
    "\n",
    "Lo interesante viene al compararlo con el método simplex de excel, ya que la solución optima fue dejando $387$ pantalones y $213$ faltantes, llegando a una subsolucion de $64610$, la cual es menos a la solución propuesta por pulp. Esto probablemente se debe a las limitantes de las interaciones con excel."
   ]
  },
  {
   "cell_type": "markdown",
   "id": "df4e1ab3",
   "metadata": {},
   "source": [
    "#### Problema 2. Modelo de Producción, periodos múltiples "
   ]
  },
  {
   "cell_type": "code",
   "execution_count": 4,
   "id": "75bba7b7",
   "metadata": {},
   "outputs": [
    {
     "name": "stdout",
     "output_type": "stream",
     "text": [
      "Objetivo: 61795.0\n",
      "Mes 1: P=205.00, I_end=25.00\n",
      "Mes 2: P=225.00, I_end=0.00\n",
      "Mes 3: P=190.00, I_end=0.00\n",
      "Mes 4: P=160.00, I_end=20.00\n",
      "Mes 5: P=225.00, I_end=25.00\n",
      "Mes 6: P=225.00, I_end=0.00\n"
     ]
    }
   ],
   "source": [
    "import pulp\n",
    "\n",
    "# Datos\n",
    "demandas = [180, 250, 190, 140, 220, 250]\n",
    "costos_prod = [50, 45, 55, 52, 48, 50]\n",
    "costos_inv = [8, 10, 10, 10, 8, 8]\n",
    "capacidad = 225\n",
    "meses = range(1,7)\n",
    "\n",
    "# Problema continuo\n",
    "prob_cont = pulp.LpProblem(\"Produccion_Multiperiodo_Cont\", pulp.LpMinimize)\n",
    "\n",
    "P = pulp.LpVariable.dicts(\"Produccion\", meses, lowBound=0, upBound=capacidad)\n",
    "I0 = pulp.LpVariable(\"I0\", lowBound=0, upBound=0)\n",
    "I = pulp.LpVariable.dicts(\"Inventario\", meses, lowBound=0)\n",
    "I6 = pulp.LpVariable(\"I6\", lowBound=0)\n",
    "\n",
    "# Objetivo\n",
    "prob_cont += pulp.lpSum(costos_prod[t-1]*P[t] + costos_inv[t-1]*I[t] for t in meses)\n",
    "\n",
    "# Balance\n",
    "prev_I = I0\n",
    "for t in meses:\n",
    "    if t < 6:\n",
    "        prob_cont += prev_I + P[t] == demandas[t-1] + I[t]\n",
    "        prev_I = I[t]\n",
    "    else:\n",
    "        prob_cont += prev_I + P[t] == demandas[t-1] + I6\n",
    "prob_cont += I6 == 0\n",
    "\n",
    "prob_cont.solve(pulp.PULP_CBC_CMD(msg=0))\n",
    "\n",
    "# Resultados\n",
    "print(\"Objetivo:\", pulp.value(prob_cont.objective))\n",
    "for t in meses:\n",
    "    print(f\"Mes {t}: P={P[t].varValue:.2f}, I_end={I[t].varValue:.2f}\")"
   ]
  },
  {
   "cell_type": "markdown",
   "id": "73d08f68",
   "metadata": {},
   "source": [
    "La estrategia óptima produce al máximo (225) en meses baratos (2 y 5, con $ c_2=45 $, $ c_5=48 $) para cubrir parte de las demandas altas en 2 y 6, almacenando el excedente. En mes 1, produce extra (205 > 180) para ayudar en mes 2. En mes 4, produce 160 > 140 pero almacena para mes 5 y 6. Mes 3 produce exacto ya que $ c_3=55 $ es alto."
   ]
  },
  {
   "cell_type": "markdown",
   "id": "5676acb5",
   "metadata": {},
   "source": [
    "Para la comparativa con la solución no óptima, que es producir exactamente la cantidad de la demanda por cada mes se observa a simple vista que no se llegará a cumplir la demanda de los meses 2 y 6 ya que la capacidad máxima de producir es de 225 mientras que la demanda será de 250 en ambos meses, sin embargo se obtiene una solución la cual sería calculada por $180 \\cdot 50+ 225 \\cdot 45 + 190 \\cdot 55 + 140 \\cdot 52 + 220 \\cdot 48 + 225 \\cdot 50 = 58,665 $ sin llegar a la demanda por la falta de capacidad de producción.\n"
   ]
  }
 ],
 "metadata": {
  "kernelspec": {
   "display_name": "Python 3",
   "language": "python",
   "name": "python3"
  },
  "language_info": {
   "codemirror_mode": {
    "name": "ipython",
    "version": 3
   },
   "file_extension": ".py",
   "mimetype": "text/x-python",
   "name": "python",
   "nbconvert_exporter": "python",
   "pygments_lexer": "ipython3",
   "version": "3.12.7"
  }
 },
 "nbformat": 4,
 "nbformat_minor": 5
}
