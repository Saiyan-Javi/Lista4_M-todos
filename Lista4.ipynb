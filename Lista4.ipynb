{
 "cells": [
  {
   "cell_type": "markdown",
   "id": "73d93d18",
   "metadata": {},
   "source": [
    "# Lista 4, Métodos Numéricos 2 \n",
    "Javier Alejandro Ovalle Chiquín, 22103  \n",
    "Ricardo Josué Morales Contreras, 22289"
   ]
  },
  {
   "cell_type": "code",
   "execution_count": null,
   "id": "dbc8c625",
   "metadata": {},
   "outputs": [],
   "source": []
  }
 ],
 "metadata": {
  "language_info": {
   "name": "python"
  }
 },
 "nbformat": 4,
 "nbformat_minor": 5
}
